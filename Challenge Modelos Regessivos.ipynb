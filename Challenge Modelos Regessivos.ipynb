{
 "cells": [
  {
   "attachments": {},
   "cell_type": "markdown",
   "metadata": {},
   "source": [
    "# Challenge Modelos Regessivos\n",
    "## Desafio: Estimando o Preço do Imóvel"
   ]
  },
  {
   "attachments": {},
   "cell_type": "markdown",
   "metadata": {},
   "source": [
    "Suponha que você trabalha em uma empresa do setor imobiliário. Após explorar as principais variáveis que impactam o preco dos imóveis, na semana passada, pediram para você, do time de dados, construir um modelo que estime o preço de um imóvel.\n",
    "Para isso, você utilizará a mesma base de dados da semana anterior\n",
    "(desafio_01_preco_imoveis.csv). Como você poderia ajudá-los?\n",
    "A base contém as seguintes informações:\n",
    "- id : código identificador do imóvel\n",
    "- date: data em que o imóvel foi cadastrado\n",
    "- price: preço do imóvel\n",
    "- bedrooms: número de quartos\n",
    "- bathrooms: número de banheiros\n",
    "- sqft_living: tamanho do imóvel (dentro da casa)\n",
    "- sqft_lot: tamanho do lote / terreno\n",
    "- floors: andares\n",
    "- waterfront: flag se o imóvel tem vista para o mar. 1 caso positivo, 0 caso contrário.\n",
    "- view: indica o número de quartos com vista.\n",
    "- condition: condição do imóvel, escala de 1 a 5\n",
    "- grade: nota do imóvel\n",
    "- sqft_above: tamanho da casa acima do solo (excluindo porão)\n",
    "- sqft_basement: tamanho do porão\n",
    "- yr_built: ano em que a casa foi construída\n",
    "- yr_renovated: ano em que a casa foi renovada\n",
    "- zipcode: \"CEP\" do imóvel\n",
    "- lat: latitude do imóvel\n",
    "- long: longitude do imóvel"
   ]
  },
  {
   "attachments": {},
   "cell_type": "markdown",
   "metadata": {},
   "source": [
    "1. Selecione as principais variáveis que você gostaria de incluir no modelo de precificação do imóvel.\n",
    "2. Construa um modelo de regressão linear multivariada para estimar o preço do imóvel. Lembre-se de: Analisar a tabela de regressão e os resíduos do modelo e interprete os resultados\n",
    "3. Suponha agora que você encontrou um modelo ideal. Explique como você faria para colocar esse modelo em produção? Entenda por modelo em produção um modelo que a cada apartamento novo inserido na base precifique-o com base no seu modelo. \n",
    "\n",
    "Materiais de apoio:\n",
    "https://medium.com/creditas-tech/terminei-a-modelagem-e-agora-parte-i-604232bb5114\n",
    "https://medium.com/analytics-vidhya/deploying-linear-regression-ml-model-as-web-application-on-docker-3409f9464a27 (conteúdo em inglês: utilizar google tradutor caso necessário)\n",
    "\n",
    "https://docs.microsoft.com/en-us/sql/machine-learning/tutorials/python-ski-rental-linear-regression-deploy-model?view=sql-server-ver15 (conteúdo em inglês: utilizar google tradutor caso necessário)"
   ]
  }
 ],
 "metadata": {
  "kernelspec": {
   "display_name": "base",
   "language": "python",
   "name": "python3"
  },
  "language_info": {
   "name": "python",
   "version": "3.9.13"
  },
  "orig_nbformat": 4,
  "vscode": {
   "interpreter": {
    "hash": "a9a945df823e285c06b96a2606972f70ab25f91665b500d829d03b1c9fd07f0c"
   }
  }
 },
 "nbformat": 4,
 "nbformat_minor": 2
}
