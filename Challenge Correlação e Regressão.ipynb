{
 "cells": [
  {
   "attachments": {},
   "cell_type": "markdown",
   "metadata": {},
   "source": [
    "# Challenge Correlação e Regressão\n",
    "## Desafio Análise de Correlação:"
   ]
  },
  {
   "attachments": {},
   "cell_type": "markdown",
   "metadata": {},
   "source": [
    "Suponha que você trabalha em uma empresa do setor imobiliário. Para essa empresa é\n",
    "muito importante precificar corretamente o imóvel, caso contrário, os corretores\n",
    "podem perder a venda. Como parte do time de dados, você é responsável por analisar\n",
    "os principais fatores que podem afetar o preço dos imóveis. Para isso, eles te enviaram\n",
    "a base de dados (desafio_01_preco_imoveis.csv). Como você poderia ajudá-los?\n",
    "\n",
    "Para responder esse desafio: A base de dados: desafio_01_preco_imoveis.csv contém as\n",
    "seguintes informações:\n",
    "- id : código identificador do imóvel\n",
    "- date: data em que o imóvel foi cadastrado\n",
    "- price: preço do imóvel\n",
    "- bedrooms: número de quartos\n",
    "- bathrooms: número de banheiros\n",
    "- sqft_living: tamanho do imóvel (dentro da casa)\n",
    "- sqft_lot: tamanho do lote / terreno\n",
    "- floors: andares\n",
    "- waterfront: flag se o imóvel tem vista para o mar. 1 caso positivo, 0 caso\n",
    "contrário.\n",
    "- view: indica o número de quartos com vista.\n",
    "- condition: condição do imóvel, escala de 1 a 5\n",
    "- grade: nota do imóvel\n",
    "- sqft_above: tamanho da casa acima do solo (excluindo porão)\n",
    "- sqft_basement: tamanho do porão\n",
    "- yr_built: ano em que a casa foi construída\n",
    "- yr_renovated: ano em que a casa foi renovada\n",
    "- zipcode: \"CEP\" do imóvel\n",
    "- lat: latitude do imóvel\n",
    "- long: longitude do imóvel"
   ]
  },
  {
   "attachments": {},
   "cell_type": "markdown",
   "metadata": {},
   "source": [
    "1. Analise a correlação de todas as variáveis com o preço do imóvel. Quais\n",
    "variáveis são mais correlacionadas? Quais são menos correlacionadas?\n",
    "2. Para as top 5 variáveis mais correlacionadas com o preço:\n",
    "- 1. plote as suas distribuições (histograma e boxplot)\n",
    "- 2. plote o scatterplot (gráfico de dispersão), contendo preço no eixo Y e a\n",
    "variável correlacionada no eixo X.\n",
    "- 3. para cada uma das 5 variáveis faça uma regressão linear simples sendo\n",
    "preciso a variável resposta (y) e interprete os resultados."
   ]
  }
 ],
 "metadata": {
  "kernelspec": {
   "display_name": "base",
   "language": "python",
   "name": "python3"
  },
  "language_info": {
   "name": "python",
   "version": "3.9.13"
  },
  "orig_nbformat": 4,
  "vscode": {
   "interpreter": {
    "hash": "a9a945df823e285c06b96a2606972f70ab25f91665b500d829d03b1c9fd07f0c"
   }
  }
 },
 "nbformat": 4,
 "nbformat_minor": 2
}
