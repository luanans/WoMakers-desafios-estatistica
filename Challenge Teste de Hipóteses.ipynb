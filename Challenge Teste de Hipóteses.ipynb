{
 "cells": [
  {
   "attachments": {},
   "cell_type": "markdown",
   "metadata": {},
   "source": [
    "# Challenge Teste de Hipóteses\n",
    "## Desafio 1 : Cosméticos"
   ]
  },
  {
   "attachments": {},
   "cell_type": "markdown",
   "metadata": {},
   "source": [
    "Suponha que você trabalha em uma empresa do ramo de cosméticos ou beleza. O\n",
    "Time de produtos dessa empresa está interessado criar novos batons com maior\n",
    "durabilidade. Para isso estão testando 3 diferentes fórmulas para irem a mercado.\n",
    "Com isso, a empresa fez uma pesquisa com varias voluntárias e populou a base de\n",
    "dados (desafio_01_cosmeticos.csv) contendo as seguintes informacoes:\n",
    "- id_produto: código identificador do produto, com a fórmula utilizada. Para\n",
    "diferenciarmos se se trata do batom com a fórmula 1, 2 ou 3\n",
    "- id_voluntária: código identificador da voluntária que utilizou o produto.\n",
    "- durabilidade: quanto tempo o produto durou em horas.\n",
    "- idade: idade da voluntária\n",
    "- exposicao_sol: variável que indica 1 se a voluntária se expos ao sol 0 caso\n",
    "contrário.\n",
    "De posse dessas informacoes, o time de produtos solicitou aos analistas de dados da\n",
    "empresa as seguintes perguntas a serem respondidas:"
   ]
  },
  {
   "attachments": {},
   "cell_type": "markdown",
   "metadata": {},
   "source": [
    "1. Existe diferenca estatisticamente significativa na durabilidade dos batons com\n",
    "formulas diferentes?\n",
    "2. Essa diferenca persiste ou nao quando a voluntária se expoe ao sol? E com\n",
    "relacao a idade?\n",
    "3. Qual fórmula de batom voce indicaria para consumidores que buscam maior\n",
    "durabilidade e exposicao ao sol?\n",
    "\n",
    "Mateiral de Apoio:\n",
    "https://medium.com/rodrigo-lampier/usando-teste-de-hip%C3%B3teses-para-resp\n",
    "onder-quest%C3%B5es-de-neg%C3%B3cio-8a3d5ae9ebc0"
   ]
  },
  {
   "attachments": {},
   "cell_type": "markdown",
   "metadata": {},
   "source": [
    "## Desafio 2 :\n"
   ]
  },
  {
   "attachments": {},
   "cell_type": "markdown",
   "metadata": {},
   "source": [
    "Imagine que voce trabalha em uma empresa do setor alimentício, e o preço de\n",
    "determinado produto, um novo picolé, tem uma distribuição normal com média igual a\n",
    "R$7,85 e desvio padrão igual a R$3,32. Suspeita-se que devido ao verão, em\n",
    "determinadas localidades de praia o preco do picolé esteja mais caro.\n",
    "\n",
    "Para verificar se esse efeito é estatisticamente significativo, contactaram voce, analista\n",
    "de dados.\n",
    "\n",
    "Suponha que para realizar essa análise voce tenha dados de 45 lojas em cidades do\n",
    "litoral, escolhidas aleatoriamente. E constatou que o preço médio do picolé nessas\n",
    "cidades é de R$11,52."
   ]
  },
  {
   "attachments": {},
   "cell_type": "markdown",
   "metadata": {},
   "source": [
    "1. Voce pode concluir que existe diferenca de precos estatisticamente\n",
    "relevante com 5% de significancia?\n",
    "2. Qual o valor da variável teste, o intervalo de confianca e o p-valor?"
   ]
  }
 ],
 "metadata": {
  "kernelspec": {
   "display_name": "base",
   "language": "python",
   "name": "python3"
  },
  "language_info": {
   "codemirror_mode": {
    "name": "ipython",
    "version": 3
   },
   "file_extension": ".py",
   "mimetype": "text/x-python",
   "name": "python",
   "nbconvert_exporter": "python",
   "pygments_lexer": "ipython3",
   "version": "3.9.13"
  },
  "orig_nbformat": 4,
  "vscode": {
   "interpreter": {
    "hash": "a9a945df823e285c06b96a2606972f70ab25f91665b500d829d03b1c9fd07f0c"
   }
  }
 },
 "nbformat": 4,
 "nbformat_minor": 2
}
