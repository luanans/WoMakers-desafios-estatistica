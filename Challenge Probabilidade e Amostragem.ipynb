{
 "cells": [
  {
   "attachments": {},
   "cell_type": "markdown",
   "metadata": {},
   "source": [
    "# Challenge Probabilidade e Amostragem\n",
    "## Desafio 1: Entendendo o consumidor"
   ]
  },
  {
   "attachments": {},
   "cell_type": "markdown",
   "metadata": {},
   "source": [
    "Suponha que você trabalha em uma empresa de produtos de beleza populares e, com\n",
    "a pandemia, você suspeita que o perfil de seus clientes mudou. O time de marketing,\n",
    "pediu a sua ajuda e gostaria de entender se:\n",
    "1. isso de fato aconteceu e \n",
    "2. quais as\n",
    "diferenças do novo perfil de clientes para o antigo, pois assim poderiam personalizar melhor os seus anúncios. Para isso, eles te enviaram a base de dados (desafio_01_consumidor.csv). Como você poderia ajudá-los?\n",
    "\n",
    "Para responder esse desafio: A base de dados: desafio_01_consumidor.csv contém informações de seus clientes (anonimizados) no período pré e pós pandemia. A coluna \"pré-pandemia\" indica se o dado é pré-pandemia ou não, sendo 1, caso positivo ou 0 caso negativo.\n"
   ]
  },
  {
   "attachments": {},
   "cell_type": "markdown",
   "metadata": {},
   "source": [
    "1. Entenda a distribuição de variáveis como de idade / renda / regiao /\n",
    "produtos mais comprados antes e depois da pandemia\n",
    "- a. Identifique as distribuições\n",
    "- b. Plote histogramas / boxplots\n",
    "2. Você notou diferenças nítidas pré e pós pandemia? Como você poderia\n",
    "provar estatisticamente que essas diferenças são significativas ? (pergunta\n",
    "extra)\n",
    "3. Suponha agora que os dados recebidos são somente uma amostra da sua\n",
    "população total de clientes. Suponha que a sua \"população\" de clientes\n",
    "verdadeira é de 100000. Qual o tamanho da amostra necessária para\n",
    "chegarmos a conclusões com 95% de confiança e 2% de margem de erro? A\n",
    "base informada é suficiente? E com uma margem de erro de 10%?"
   ]
  },
  {
   "attachments": {},
   "cell_type": "markdown",
   "metadata": {},
   "source": [
    "## Desafio 2:  Determinando o Estoque de Segurança"
   ]
  },
  {
   "attachments": {},
   "cell_type": "markdown",
   "metadata": {},
   "source": [
    "Suponha agora que você trabalha em uma empresa de produtos perecíveis, como\n",
    "Danone ou Nestlé. Para a empresa, é muito importante que a sua política de estoque\n",
    "seja eficiente. É necessário manter um estoque de segurança em todos os produtos\n",
    "(acima da previsão de vendas), pois, caso contrário, as pessoas podem não encontrar\n",
    "os produtos no supermercado. Mas, ao mesmo tempo, se o estoque estiver em\n",
    "excesso, isso pode representar um grande custo. Os produtos podem não ser\n",
    "comprados, e consequentemente, jogados fora, o que na indústria se chama\n",
    "\"desova\".\n",
    "Para achar o equilíbrio perfeito, o gerente de vendas pediu a ajuda a você, do time de\n",
    "análise de dados, e ele gostaria de saber qual o estoque de segurança ideal.\n",
    "Para responder esse desafio, antes vamos abordar alguns conceitos importantes na\n",
    "indústria:\n",
    "- Estoque de segurança: é uma quantidade de estoques que se tem, mas que\n",
    "não se deseja usar. É como um seguro do carro: é bom ter um, mas você\n",
    "não quer precisar usá-lo. Isto porque ele é calculado apenas para suprir\n",
    "uma segurança em casos de variações inesperadas, algo que você não pode\n",
    "prever ou controlar: problemas no fornecedor, atrasos na entrega, uma\n",
    "demanda que não foi prevista…\n",
    "- Demanda: se a demanda é bem estável e conhecida com antecedência,\n",
    "então temos pouca variabilidade a cada mês e não precisamos nos proteger\n",
    "muito contra essas variações (pois sabemos que elas não ocorrem); por\n",
    "outro lado, se seu produto tem uma variabilidade nas vendas muito grande,\n",
    "então precisaremos de estoque de segurança maior. Isto tudo é medido\n",
    "matematicamente através do desvio padrão da demanda, que neste caso é\n",
    "calculado como o desvio padrão da previsão da demanda. Um bom sistema\n",
    "de previsões é capaz de oferecer este número, ou ele pode ser estimado de\n",
    "maneiras mais simples, mas menos precisas.\n",
    "- Lead time (tempo de entrega) do produto: se o tempo de entrega é elevado\n",
    "e sua variabilidade é alta (se uma entrega é feita em 5 dias, outra em 8 dias,\n",
    "outra em 2 dias), então é preciso ter uma segurança frente à este tempo\n",
    "média de entrega de 5 dias, pois algumas vezes ela chega a demorar 8 dias.\n",
    "Mas não queremos nos planejar sempre para receber apenas depois de 8\n",
    "dias, pois isto acarretaria custos muito altos, então o estoque de segurança\n",
    "utiliza a estatística para auxiliar nessa tarefa.\n",
    "- Nível de serviço desejado: nem todos os produtos merecem a mesma\n",
    "atenção e o mesmo cuidado; alguns produtos são críticos, mais importantes\n",
    "ou mais atrativos, e por isso merecem estar sempre presentes, enquanto\n",
    "em outros produtos podemos nos dar ao luxo de não tê-lo em estoque\n",
    "sempre. Matematicamente, isto é modelado através do nível de serviço\n",
    "desejado: quanto maior o nível de serviço (um número percentual de 0 a\n",
    "100), maior será o estoque de segurança pois queremos mais garantias que\n",
    "o produto estará sempre disponível. O nível de serviço depende de cada\n",
    "setor: palitos de fósforo num supermercado não devem ter nível de serviço\n",
    "muito alto, enquanto antibióticos numa farmácia hospitalar devem ter nível\n",
    "de serviço altíssimo. O nível de serviço indica o quanto queremos estar\n",
    "seguros frente às variabilidades que ocorrem, em outras palavras, frente\n",
    "aos desvios padrões da demanda e do lead time.\n",
    "- A Fórmula Mãe do Estoque de segurança:\n",
    "A maioria das indústrias calcula o estoque de segurança tomando como\n",
    "base a distribuição normal. Assumindo que suas vendas seguem essa\n",
    "distribuição, ela irá determinar qual a probabilidade de se vender certo\n",
    "produto."
   ]
  },
  {
   "cell_type": "markdown",
   "metadata": {},
   "source": []
  },
  {
   "cell_type": "markdown",
   "metadata": {},
   "source": []
  },
  {
   "attachments": {},
   "cell_type": "markdown",
   "metadata": {},
   "source": [
    "<img src=\"Desafio Estatística\\imagens\\normalDistribution.png\">"
   ]
  },
  {
   "attachments": {},
   "cell_type": "markdown",
   "metadata": {},
   "source": [
    "Por exemplo, se você vende na média 1000 unidades de produto por\n",
    "semana, a distribuição mostra que você tem uma alta probabilidade de\n",
    "vender em torno de 1000 todas as semanas, e uma baixa probabilidade de\n",
    "esse número ser 20 ou 200000 de produtos vendidos.\n",
    "\n",
    "Assim, você pode utilizar a distribuição normal, para entender qual o seu\n",
    "nível de serviço desejado. Ou seja, se você deseja um nível de serviço de\n",
    "90%, a curva normal irá te fornecer o multiplicador desejado (variações da média) para você alcançar 90% da demanda.\n",
    "\n",
    "Portanto, matematicamente, podemos determinar o estoque de segurança\n",
    "utilizando os conceitos abordados em estatística, como a tabela da\n",
    "distribuição normal, utilizando a fórmula abaixo.\n",
    "\n",
    "# $$ Estoque\\ de\\ Seguranca = Z  \\sqrt{σ_{d}^2 t- σ_{t}^2 d^2} $$\n",
    "\n",
    "sendo :\n",
    "z = o valor da tabela da distribuiçãoo nrmal, que indica a quantos desvios\n",
    "padrões ao redor da média temos que tomar para cobrir a proporção da\n",
    "área sob a curva normal /nível de serviço desejado.\n",
    "\n",
    "d = demanda média passada ou estimada\n",
    "\n",
    "t = lead time médio.\n",
    "\n",
    "$\\sigma _{d}$ = desvio padrão / variação da demanda 𝑑\n",
    "\n",
    "$\\sigma _{t}$ = desvio padrão / variação do lead time\n",
    "\n",
    "Assim se o tempo de entrega tiver pouca variabilidade a fórmula pode ser\n",
    "aproximada por :\n",
    "\n",
    "## $$ Estoque\\ de\\ Seguranca = Z * \\sqrt{σ_{d}^2 t} $$\n",
    "\n",
    "e a intuição da fórmula pode ser vista como : O quanto de variação da\n",
    "média da demanda eu estou disposto a aceitar além do natural (z-score do\n",
    "nível de serviço) * desvio médio da demanda que já ocorre naturalmente *\n",
    "tempo de entrega.\n",
    "\n",
    "Matematicamente o valor obtido pela fórmula deve ser sempre\n",
    "arredondado para cima, para garantir que estamos cobertos contra\n",
    "variações indesejadas.\n",
    "\n",
    "Dados esses conceitos vamos ao passo a passo do desafio.\n",
    "O gerente de vendas te enviou o arquivo desafio_02_estoque.csv contendo os dados de vendas de iogurte e o lead time de 2015 a 2022."
   ]
  },
  {
   "attachments": {},
   "cell_type": "markdown",
   "metadata": {},
   "source": [
    "1. Analise os dados das vendas e do lead time. Eles seguem uma distribuição\n",
    "normal? Que características você identificou para chegar a essa conclusão?\n",
    "2. Assuma que:\n",
    "- a. Os dados seguem uma distribuição normal.\n",
    "- b. O time de vendas utilize para o produto em questão o nível de serviço\n",
    "de 99,87%\n",
    "- c. O produto não tem sazonalidade (todos os meses vende valores\n",
    "próximos) e a demanda média passada é uma boa estimativa para a\n",
    "projetada, de acordo com o time de planejamento de demanda.\n",
    "Calcule, com os dados fornecidos, o estoque de segurança desejado"
   ]
  }
 ],
 "metadata": {
  "kernelspec": {
   "display_name": "base",
   "language": "python",
   "name": "python3"
  },
  "language_info": {
   "codemirror_mode": {
    "name": "ipython",
    "version": 3
   },
   "file_extension": ".py",
   "mimetype": "text/x-python",
   "name": "python",
   "nbconvert_exporter": "python",
   "pygments_lexer": "ipython3",
   "version": "3.9.13"
  },
  "orig_nbformat": 4,
  "vscode": {
   "interpreter": {
    "hash": "a9a945df823e285c06b96a2606972f70ab25f91665b500d829d03b1c9fd07f0c"
   }
  }
 },
 "nbformat": 4,
 "nbformat_minor": 2
}
